{
 "cells": [
  {
   "cell_type": "code",
   "execution_count": 2,
   "id": "7823fac9",
   "metadata": {},
   "outputs": [],
   "source": [
    "import blockcypher"
   ]
  },
  {
   "cell_type": "code",
   "execution_count": 59,
   "id": "7a4fbef0",
   "metadata": {},
   "outputs": [],
   "source": [
    "token = '36c82837e39f4b919ab6e1afaafb8e7f'\n",
    "backup_pair = []"
   ]
  },
  {
   "cell_type": "code",
   "execution_count": 4,
   "id": "69227388",
   "metadata": {},
   "outputs": [],
   "source": [
    "target_pair = blockcypher.generate_new_address(coin_symbol='btc-testnet',api_key=token)"
   ]
  },
  {
   "cell_type": "code",
   "execution_count": 82,
   "id": "bbb9a02e",
   "metadata": {},
   "outputs": [],
   "source": [
    "backup_pair.append(source_pair)"
   ]
  },
  {
   "cell_type": "code",
   "execution_count": 61,
   "id": "4351e868",
   "metadata": {},
   "outputs": [],
   "source": [
    "source_pair = blockcypher.generate_new_address(coin_symbol='btc-testnet',api_key=token)"
   ]
  },
  {
   "cell_type": "code",
   "execution_count": 91,
   "id": "3469be87",
   "metadata": {
    "scrolled": true
   },
   "outputs": [
    {
     "data": {
      "text/plain": [
       "{'private': '48aa8776bc86d26485761d6d8e2bff49eebd487fc947f76d08776ade92ebb335',\n",
       " 'public': '02c490850d64f74aa333a90b32ee82ce93f42c594410fb60712bb6c235d6319d26',\n",
       " 'address': 'mhxhwga4chsWgmTsCYYkgtm4n87BMVvyyG',\n",
       " 'wif': 'cQ1xMDF6vufa8CC1tqnpro8evw8DHa173HL3Wgi6ps8WW1mgqpop'}"
      ]
     },
     "execution_count": 91,
     "metadata": {},
     "output_type": "execute_result"
    }
   ],
   "source": [
    "source_pair"
   ]
  },
  {
   "cell_type": "code",
   "execution_count": 96,
   "id": "be4896fc",
   "metadata": {},
   "outputs": [
    {
     "data": {
      "text/plain": [
       "{'address': 'mm7PPNCrcy5mGuxbeh9yP8Z1a3zkrdXwSh',\n",
       " 'total_received': 0,\n",
       " 'total_sent': 0,\n",
       " 'balance': 0,\n",
       " 'unconfirmed_balance': 0,\n",
       " 'final_balance': 0,\n",
       " 'n_tx': 0,\n",
       " 'unconfirmed_n_tx': 0,\n",
       " 'final_n_tx': 0}"
      ]
     },
     "execution_count": 96,
     "metadata": {},
     "output_type": "execute_result"
    }
   ],
   "source": [
    "blockcypher.get_address_overview(target_pair['address'], api_key=token, coin_symbol='btc-testnet')"
   ]
  },
  {
   "cell_type": "code",
   "execution_count": 97,
   "id": "d4c2196b",
   "metadata": {},
   "outputs": [
    {
     "data": {
      "text/plain": [
       "{'address': 'mhxhwga4chsWgmTsCYYkgtm4n87BMVvyyG',\n",
       " 'total_received': 1214826,\n",
       " 'total_sent': 0,\n",
       " 'balance': 1214826,\n",
       " 'unconfirmed_balance': 0,\n",
       " 'final_balance': 1214826,\n",
       " 'n_tx': 1,\n",
       " 'unconfirmed_n_tx': 0,\n",
       " 'final_n_tx': 1}"
      ]
     },
     "execution_count": 97,
     "metadata": {},
     "output_type": "execute_result"
    }
   ],
   "source": [
    "blockcypher.get_address_overview(source_pair['address'], api_key=token, coin_symbol='btc-testnet')"
   ]
  },
  {
   "cell_type": "code",
   "execution_count": 124,
   "id": "2d99f548",
   "metadata": {},
   "outputs": [],
   "source": [
    "inputs = [{'address': source_pair['address']}]\n",
    "outputs = [{'address': target_pair['address'], 'value': 20000}]"
   ]
  },
  {
   "cell_type": "code",
   "execution_count": 125,
   "id": "9aad6158",
   "metadata": {},
   "outputs": [],
   "source": [
    "unsigned_tx = blockcypher.create_unsigned_tx(inputs=inputs, outputs=outputs, coin_symbol='btc-testnet', api_key=token)"
   ]
  },
  {
   "cell_type": "code",
   "execution_count": 126,
   "id": "2cc73fa3",
   "metadata": {
    "scrolled": true
   },
   "outputs": [
    {
     "data": {
      "text/plain": [
       "{'tx': {'block_height': -1,\n",
       "  'block_index': -1,\n",
       "  'hash': '63fe1b64b6b466f02f469c46ec9a7d4c10b6617f6312cc30a1ffd6cd2500097a',\n",
       "  'addresses': ['mhxhwga4chsWgmTsCYYkgtm4n87BMVvyyG',\n",
       "   'mm7PPNCrcy5mGuxbeh9yP8Z1a3zkrdXwSh'],\n",
       "  'total': 1198826,\n",
       "  'fees': 16000,\n",
       "  'size': 226,\n",
       "  'vsize': 226,\n",
       "  'preference': 'medium',\n",
       "  'relayed_by': '222.206.18.132',\n",
       "  'received': '2022-07-27T13:55:46.622385586Z',\n",
       "  'ver': 1,\n",
       "  'double_spend': False,\n",
       "  'vin_sz': 1,\n",
       "  'vout_sz': 2,\n",
       "  'confirmations': 0,\n",
       "  'inputs': [{'prev_hash': '3807e17f461dcda4dbbaaf33579cfd78bfab27838d78ca003547ede5e3457e2d',\n",
       "    'output_index': 0,\n",
       "    'output_value': 1214826,\n",
       "    'sequence': 4294967295,\n",
       "    'addresses': ['mhxhwga4chsWgmTsCYYkgtm4n87BMVvyyG'],\n",
       "    'script_type': 'pay-to-pubkey-hash',\n",
       "    'age': 2288082}],\n",
       "  'outputs': [{'value': 20000,\n",
       "    'script': '76a9143d5bb78f0f854a99d29138558e229a91f77d035b88ac',\n",
       "    'addresses': ['mm7PPNCrcy5mGuxbeh9yP8Z1a3zkrdXwSh'],\n",
       "    'script_type': 'pay-to-pubkey-hash'},\n",
       "   {'value': 1178826,\n",
       "    'script': '76a9141acf1636f3d01e6263c263749c4a1e9f234d67bd88ac',\n",
       "    'addresses': ['mhxhwga4chsWgmTsCYYkgtm4n87BMVvyyG'],\n",
       "    'script_type': 'pay-to-pubkey-hash'}]},\n",
       " 'tosign': ['edd1857b2231a14fcbbbbaf9faa24a26d1f9e44637a73f93136043cec45c4ba4']}"
      ]
     },
     "execution_count": 126,
     "metadata": {},
     "output_type": "execute_result"
    }
   ],
   "source": [
    "unsigned_tx"
   ]
  },
  {
   "cell_type": "code",
   "execution_count": 108,
   "id": "2ad21c5b",
   "metadata": {},
   "outputs": [],
   "source": [
    "pubk = [source_pair['public']]\n",
    "privk = [source_pair['private']]"
   ]
  },
  {
   "cell_type": "code",
   "execution_count": 127,
   "id": "63063e00",
   "metadata": {},
   "outputs": [],
   "source": [
    "tx_signatures = blockcypher.make_tx_signatures(txs_to_sign=unsigned_tx['tosign'], privkey_list=privk, pubkey_list=pubk)"
   ]
  },
  {
   "cell_type": "code",
   "execution_count": 128,
   "id": "f5aed5a7",
   "metadata": {},
   "outputs": [
    {
     "data": {
      "text/plain": [
       "['304402204acb761dbaae590a9131df0263953fb57fab2bf159cdeff36bcb87ace4048df9022061d938d5823e69e9dc258da1fc3d753c33107fa2b24ecd6218c95389d5e243f0']"
      ]
     },
     "execution_count": 128,
     "metadata": {},
     "output_type": "execute_result"
    }
   ],
   "source": [
    "tx_signatures"
   ]
  },
  {
   "cell_type": "code",
   "execution_count": 132,
   "id": "a2a3e6a5",
   "metadata": {},
   "outputs": [],
   "source": [
    "signed_tx = blockcypher.broadcast_signed_transaction(unsigned_tx=unsigned_tx, signatures=tx_signatures, pubkeys=pubk, api_key=token, coin_symbol='btc-testnet')"
   ]
  },
  {
   "cell_type": "code",
   "execution_count": 138,
   "id": "c07fa9e6",
   "metadata": {},
   "outputs": [
    {
     "data": {
      "text/plain": [
       "{'tx': {'block_height': -1,\n",
       "  'block_index': -1,\n",
       "  'hash': '5f3830506ff1129abf9cbc00b30f2c1457b55e7b4fe668a651092630a962693c',\n",
       "  'addresses': ['mhxhwga4chsWgmTsCYYkgtm4n87BMVvyyG',\n",
       "   'mm7PPNCrcy5mGuxbeh9yP8Z1a3zkrdXwSh'],\n",
       "  'total': 1198826,\n",
       "  'fees': 16000,\n",
       "  'size': 225,\n",
       "  'vsize': 225,\n",
       "  'preference': 'medium',\n",
       "  'relayed_by': '222.206.18.132',\n",
       "  'received': '2022-07-27T13:57:46.812991774Z',\n",
       "  'ver': 1,\n",
       "  'double_spend': False,\n",
       "  'vin_sz': 1,\n",
       "  'vout_sz': 2,\n",
       "  'confirmations': 0,\n",
       "  'inputs': [{'prev_hash': '3807e17f461dcda4dbbaaf33579cfd78bfab27838d78ca003547ede5e3457e2d',\n",
       "    'output_index': 0,\n",
       "    'script': '47304402204acb761dbaae590a9131df0263953fb57fab2bf159cdeff36bcb87ace4048df9022061d938d5823e69e9dc258da1fc3d753c33107fa2b24ecd6218c95389d5e243f0012102c490850d64f74aa333a90b32ee82ce93f42c594410fb60712bb6c235d6319d26',\n",
       "    'output_value': 1214826,\n",
       "    'sequence': 4294967295,\n",
       "    'addresses': ['mhxhwga4chsWgmTsCYYkgtm4n87BMVvyyG'],\n",
       "    'script_type': 'pay-to-pubkey-hash',\n",
       "    'age': 2288082}],\n",
       "  'outputs': [{'value': 20000,\n",
       "    'script': '76a9143d5bb78f0f854a99d29138558e229a91f77d035b88ac',\n",
       "    'addresses': ['mm7PPNCrcy5mGuxbeh9yP8Z1a3zkrdXwSh'],\n",
       "    'script_type': 'pay-to-pubkey-hash'},\n",
       "   {'value': 1178826,\n",
       "    'script': '76a9141acf1636f3d01e6263c263749c4a1e9f234d67bd88ac',\n",
       "    'addresses': ['mhxhwga4chsWgmTsCYYkgtm4n87BMVvyyG'],\n",
       "    'script_type': 'pay-to-pubkey-hash'}]},\n",
       " 'tosign': ['']}"
      ]
     },
     "execution_count": 138,
     "metadata": {},
     "output_type": "execute_result"
    }
   ],
   "source": [
    "signed_tx"
   ]
  },
  {
   "cell_type": "code",
   "execution_count": null,
   "id": "5bb38b03",
   "metadata": {},
   "outputs": [],
   "source": []
  }
 ],
 "metadata": {
  "kernelspec": {
   "display_name": "Python 3 (ipykernel)",
   "language": "python",
   "name": "python3"
  },
  "language_info": {
   "codemirror_mode": {
    "name": "ipython",
    "version": 3
   },
   "file_extension": ".py",
   "mimetype": "text/x-python",
   "name": "python",
   "nbconvert_exporter": "python",
   "pygments_lexer": "ipython3",
   "version": "3.8.13"
  }
 },
 "nbformat": 4,
 "nbformat_minor": 5
}
