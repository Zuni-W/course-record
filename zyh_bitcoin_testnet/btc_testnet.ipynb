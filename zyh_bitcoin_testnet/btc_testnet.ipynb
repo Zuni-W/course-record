{
 "cells": [
  {
   "cell_type": "markdown",
   "id": "b805403c",
   "metadata": {},
   "source": [
    "## Make and send tx by blockcypher"
   ]
  },
  {
   "cell_type": "code",
   "execution_count": 1,
   "id": "ba890f21",
   "metadata": {},
   "outputs": [],
   "source": [
    "import blockcypher"
   ]
  },
  {
   "cell_type": "code",
   "execution_count": 2,
   "id": "a53a7890",
   "metadata": {},
   "outputs": [],
   "source": [
    "token = '36c82837e39f4b919ab6e1afaafb8e7f'"
   ]
  },
  {
   "cell_type": "code",
   "execution_count": 3,
   "id": "05f08923",
   "metadata": {},
   "outputs": [],
   "source": [
    "target_pair = blockcypher.generate_new_address(coin_symbol='btc-testnet',api_key=token)"
   ]
  },
  {
   "cell_type": "code",
   "execution_count": 4,
   "id": "afaef53e",
   "metadata": {},
   "outputs": [
    {
     "data": {
      "text/plain": [
       "{'address': 'mmJqNtDYVHZoP1VtgtgUPgC8QiMzeayUwe',\n",
       " 'total_received': 0,\n",
       " 'total_sent': 0,\n",
       " 'balance': 0,\n",
       " 'unconfirmed_balance': 0,\n",
       " 'final_balance': 0,\n",
       " 'n_tx': 0,\n",
       " 'unconfirmed_n_tx': 0,\n",
       " 'final_n_tx': 0}"
      ]
     },
     "execution_count": 4,
     "metadata": {},
     "output_type": "execute_result"
    }
   ],
   "source": [
    "blockcypher.get_address_overview(target_pair['address'], api_key=token, coin_symbol='btc-testnet')"
   ]
  },
  {
   "cell_type": "code",
   "execution_count": 16,
   "id": "3205389e",
   "metadata": {},
   "outputs": [],
   "source": [
    "source_pair = blockcypher.generate_new_address(coin_symbol='btc-testnet',api_key=token)\n",
    "# source_pair = {'private': '48aa8776bc86d26485761d6d8e2bff49eebd487fc947f76d08776ade92ebb335',\n",
    "#  'public': '02c490850d64f74aa333a90b32ee82ce93f42c594410fb60712bb6c235d6319d26',\n",
    "#  'address': 'mhxhwga4chsWgmTsCYYkgtm4n87BMVvyyG',\n",
    "#  'wif': 'cQ1xMDF6vufa8CC1tqnpro8evw8DHa173HL3Wgi6ps8WW1mgqpop'}"
   ]
  },
  {
   "cell_type": "code",
   "execution_count": 17,
   "id": "4eb2456e",
   "metadata": {
    "scrolled": true
   },
   "outputs": [
    {
     "data": {
      "text/plain": [
       "{'address': 'mifLTBW7FXKzTM3i9Pr5DsrYtEYMF3geGk',\n",
       " 'total_received': 0,\n",
       " 'total_sent': 0,\n",
       " 'balance': 0,\n",
       " 'unconfirmed_balance': 0,\n",
       " 'final_balance': 0,\n",
       " 'n_tx': 0,\n",
       " 'unconfirmed_n_tx': 0,\n",
       " 'final_n_tx': 0}"
      ]
     },
     "execution_count": 17,
     "metadata": {},
     "output_type": "execute_result"
    }
   ],
   "source": [
    "blockcypher.get_address_overview(source_pair['address'], api_key=token, coin_symbol='btc-testnet')"
   ]
  },
  {
   "cell_type": "markdown",
   "id": "71d9b132",
   "metadata": {},
   "source": [
    "#### Get some bitcoin from coinfaucet.eu"
   ]
  },
  {
   "cell_type": "code",
   "execution_count": 18,
   "id": "4c3ba7d9",
   "metadata": {},
   "outputs": [
    {
     "data": {
      "text/plain": [
       "{'address': 'mifLTBW7FXKzTM3i9Pr5DsrYtEYMF3geGk',\n",
       " 'total_received': 0,\n",
       " 'total_sent': 0,\n",
       " 'balance': 0,\n",
       " 'unconfirmed_balance': 1726709,\n",
       " 'final_balance': 1726709,\n",
       " 'n_tx': 0,\n",
       " 'unconfirmed_n_tx': 1,\n",
       " 'final_n_tx': 1}"
      ]
     },
     "execution_count": 18,
     "metadata": {},
     "output_type": "execute_result"
    }
   ],
   "source": [
    "blockcypher.get_address_overview(source_pair['address'], api_key=token, coin_symbol='btc-testnet')"
   ]
  },
  {
   "cell_type": "code",
   "execution_count": 10,
   "id": "1fca0e3f",
   "metadata": {},
   "outputs": [],
   "source": [
    "inputs = [{'address': source_pair['address']}]\n",
    "outputs = [{'address': target_pair['address'], 'value': 5000}]"
   ]
  },
  {
   "cell_type": "code",
   "execution_count": 11,
   "id": "6e2ab195",
   "metadata": {},
   "outputs": [],
   "source": [
    "unsigned_tx = blockcypher.create_unsigned_tx(inputs=inputs, outputs=outputs, coin_symbol='btc-testnet', api_key=token)"
   ]
  },
  {
   "cell_type": "code",
   "execution_count": 12,
   "id": "202e7b7b",
   "metadata": {
    "scrolled": true
   },
   "outputs": [
    {
     "data": {
      "text/plain": [
       "{'tx': {'block_height': -1,\n",
       "  'block_index': -1,\n",
       "  'hash': 'f42411ceb3894e3c0bc273b5cd1f48f887b96cd3160b93243db893eebbb0f4d5',\n",
       "  'addresses': ['mhxhwga4chsWgmTsCYYkgtm4n87BMVvyyG',\n",
       "   'mmJqNtDYVHZoP1VtgtgUPgC8QiMzeayUwe'],\n",
       "  'total': 1165026,\n",
       "  'fees': 13800,\n",
       "  'size': 226,\n",
       "  'vsize': 226,\n",
       "  'preference': 'low',\n",
       "  'relayed_by': '222.206.18.132',\n",
       "  'received': '2022-07-28T06:57:44.237186473Z',\n",
       "  'ver': 1,\n",
       "  'double_spend': False,\n",
       "  'vin_sz': 1,\n",
       "  'vout_sz': 2,\n",
       "  'confirmations': 0,\n",
       "  'inputs': [{'prev_hash': '5f3830506ff1129abf9cbc00b30f2c1457b55e7b4fe668a651092630a962693c',\n",
       "    'output_index': 1,\n",
       "    'output_value': 1178826,\n",
       "    'sequence': 4294967295,\n",
       "    'addresses': ['mhxhwga4chsWgmTsCYYkgtm4n87BMVvyyG'],\n",
       "    'script_type': 'pay-to-pubkey-hash',\n",
       "    'age': 2288108}],\n",
       "  'outputs': [{'value': 5000,\n",
       "    'script': '76a9143f85fd473d265ab8a6a4c9c41336fe5267dfdb5888ac',\n",
       "    'addresses': ['mmJqNtDYVHZoP1VtgtgUPgC8QiMzeayUwe'],\n",
       "    'script_type': 'pay-to-pubkey-hash'},\n",
       "   {'value': 1160026,\n",
       "    'script': '76a9141acf1636f3d01e6263c263749c4a1e9f234d67bd88ac',\n",
       "    'addresses': ['mhxhwga4chsWgmTsCYYkgtm4n87BMVvyyG'],\n",
       "    'script_type': 'pay-to-pubkey-hash'}]},\n",
       " 'tosign': ['08a5250feb07f3b09b4c3fd34262d8bec5c0660bac27d7412bd9f9d9e3dee3c0']}"
      ]
     },
     "execution_count": 12,
     "metadata": {},
     "output_type": "execute_result"
    }
   ],
   "source": [
    "unsigned_tx"
   ]
  },
  {
   "cell_type": "code",
   "execution_count": 9,
   "id": "95553316",
   "metadata": {},
   "outputs": [],
   "source": [
    "pubk = [source_pair['public']]\n",
    "privk = [source_pair['private']]"
   ]
  },
  {
   "cell_type": "code",
   "execution_count": 127,
   "id": "9aba9537",
   "metadata": {},
   "outputs": [],
   "source": [
    "tx_signatures = blockcypher.make_tx_signatures(txs_to_sign=unsigned_tx['tosign'], privkey_list=privk, pubkey_list=pubk)"
   ]
  },
  {
   "cell_type": "code",
   "execution_count": 128,
   "id": "e1b9885a",
   "metadata": {},
   "outputs": [
    {
     "data": {
      "text/plain": [
       "['304402204acb761dbaae590a9131df0263953fb57fab2bf159cdeff36bcb87ace4048df9022061d938d5823e69e9dc258da1fc3d753c33107fa2b24ecd6218c95389d5e243f0']"
      ]
     },
     "execution_count": 128,
     "metadata": {},
     "output_type": "execute_result"
    }
   ],
   "source": [
    "tx_signatures"
   ]
  },
  {
   "cell_type": "code",
   "execution_count": 132,
   "id": "6a266960",
   "metadata": {},
   "outputs": [],
   "source": [
    "signed_tx = blockcypher.broadcast_signed_transaction(unsigned_tx=unsigned_tx, signatures=tx_signatures, pubkeys=pubk, api_key=token, coin_symbol='btc-testnet')"
   ]
  },
  {
   "cell_type": "code",
   "execution_count": 149,
   "id": "46e4af69",
   "metadata": {},
   "outputs": [
    {
     "data": {
      "text/plain": [
       "{'tx': {'block_height': -1,\n",
       "  'block_index': -1,\n",
       "  'hash': '5f3830506ff1129abf9cbc00b30f2c1457b55e7b4fe668a651092630a962693c',\n",
       "  'addresses': ['mhxhwga4chsWgmTsCYYkgtm4n87BMVvyyG',\n",
       "   'mm7PPNCrcy5mGuxbeh9yP8Z1a3zkrdXwSh'],\n",
       "  'total': 1198826,\n",
       "  'fees': 16000,\n",
       "  'size': 225,\n",
       "  'vsize': 225,\n",
       "  'preference': 'medium',\n",
       "  'relayed_by': '222.206.18.132',\n",
       "  'received': '2022-07-27T13:57:46.812991774Z',\n",
       "  'ver': 1,\n",
       "  'double_spend': False,\n",
       "  'vin_sz': 1,\n",
       "  'vout_sz': 2,\n",
       "  'confirmations': 0,\n",
       "  'inputs': [{'prev_hash': '3807e17f461dcda4dbbaaf33579cfd78bfab27838d78ca003547ede5e3457e2d',\n",
       "    'output_index': 0,\n",
       "    'script': '47304402204acb761dbaae590a9131df0263953fb57fab2bf159cdeff36bcb87ace4048df9022061d938d5823e69e9dc258da1fc3d753c33107fa2b24ecd6218c95389d5e243f0012102c490850d64f74aa333a90b32ee82ce93f42c594410fb60712bb6c235d6319d26',\n",
       "    'output_value': 1214826,\n",
       "    'sequence': 4294967295,\n",
       "    'addresses': ['mhxhwga4chsWgmTsCYYkgtm4n87BMVvyyG'],\n",
       "    'script_type': 'pay-to-pubkey-hash',\n",
       "    'age': 2288082}],\n",
       "  'outputs': [{'value': 20000,\n",
       "    'script': '76a9143d5bb78f0f854a99d29138558e229a91f77d035b88ac',\n",
       "    'addresses': ['mm7PPNCrcy5mGuxbeh9yP8Z1a3zkrdXwSh'],\n",
       "    'script_type': 'pay-to-pubkey-hash'},\n",
       "   {'value': 1178826,\n",
       "    'script': '76a9141acf1636f3d01e6263c263749c4a1e9f234d67bd88ac',\n",
       "    'addresses': ['mhxhwga4chsWgmTsCYYkgtm4n87BMVvyyG'],\n",
       "    'script_type': 'pay-to-pubkey-hash'}]},\n",
       " 'tosign': ['']}"
      ]
     },
     "execution_count": 149,
     "metadata": {},
     "output_type": "execute_result"
    }
   ],
   "source": [
    "signed_tx"
   ]
  },
  {
   "cell_type": "code",
   "execution_count": 20,
   "id": "a77b3971",
   "metadata": {},
   "outputs": [
    {
     "data": {
      "text/plain": [
       "{'address': 'mmJqNtDYVHZoP1VtgtgUPgC8QiMzeayUwe',\n",
       " 'total_received': 0,\n",
       " 'total_sent': 0,\n",
       " 'balance': 0,\n",
       " 'unconfirmed_balance': 0,\n",
       " 'final_balance': 0,\n",
       " 'n_tx': 0,\n",
       " 'unconfirmed_n_tx': 0,\n",
       " 'final_n_tx': 0}"
      ]
     },
     "execution_count": 20,
     "metadata": {},
     "output_type": "execute_result"
    }
   ],
   "source": [
    "blockcypher.get_address_overview(target_pair['address'], api_key=token, coin_symbol='btc-testnet')"
   ]
  },
  {
   "cell_type": "markdown",
   "id": "895a492a",
   "metadata": {},
   "source": [
    "------\n",
    "### Manual make tx"
   ]
  },
  {
   "cell_type": "code",
   "execution_count": 133,
   "id": "3d49817b",
   "metadata": {},
   "outputs": [],
   "source": [
    "from hashlib import sha256\n",
    "import hashlib\n",
    "import gmpy2"
   ]
  },
  {
   "cell_type": "code",
   "execution_count": 134,
   "id": "3d18ed43",
   "metadata": {},
   "outputs": [],
   "source": [
    "# Elliptic curve parameters (secp256k1)\n",
    "P = 2**256 - 2**32 - 977\n",
    "N = 115792089237316195423570985008687907852837564279074904382605163141518161494337\n",
    "A = 0\n",
    "B = 7\n",
    "Gx = 55066263022277343669578718895168534326250603453777594175500187360389116729240\n",
    "Gy = 32670510020758816978083085130507043184471273380659243275938904335757337482424\n",
    "G = (Gx, Gy)\n",
    "\n",
    "OP_DUP = 0x76\n",
    "OP_HASH160 = 0xa9\n",
    "OP_EQUAL = 0x87\n",
    "OP_EQUALVERIFY = 0x88\n",
    "OP_CHECKSIG = 0xac\n",
    "OP_RETURN   = 0x6a\n",
    "\n",
    "b58chars = '123456789ABCDEFGHJKLMNPQRSTUVWXYZabcdefghijkmnopqrstuvwxyz'\n",
    "\n",
    "short2byte = lambda x: bytes([x])\n",
    "sha256_twice = lambda x: sha256(sha256(x).digest()).digest()\n",
    "hash160 = lambda x: hashlib.new('ripemd160', sha256(x).digest()).digest()"
   ]
  },
  {
   "cell_type": "code",
   "execution_count": 163,
   "id": "e420fdaa",
   "metadata": {},
   "outputs": [],
   "source": [
    "testnet = True\n",
    "\n",
    "if testnet:\n",
    "    wif_prefix  = 0xef\n",
    "    addr_prefix = 0x6F\n",
    "    script_prefix = 0xc4\n",
    "else:\n",
    "    wif_prefix  = 0xcc\n",
    "    addr_prefix = 0x4c\n",
    "    script_prefix = 0x10"
   ]
  },
  {
   "cell_type": "code",
   "execution_count": 87,
   "id": "2ef97d37",
   "metadata": {},
   "outputs": [],
   "source": [
    "def fast_power(a, b):\n",
    "    if not b: return 1\n",
    "    a = a % P\n",
    "    b = b % P\n",
    "\n",
    "    if b & 1:\n",
    "        return (a * fast_power(a * a, b >> 1)) % P\n",
    "    else:\n",
    "        return fast_power(a * a, b >> 1) % P"
   ]
  },
  {
   "cell_type": "code",
   "execution_count": 9,
   "id": "cfae2bc0",
   "metadata": {},
   "outputs": [],
   "source": [
    "def hex2int(string, order='big'):\n",
    "    return int.from_bytes(bytes.fromhex(string), byteorder=order)"
   ]
  },
  {
   "cell_type": "code",
   "execution_count": 128,
   "id": "fc813d5a",
   "metadata": {},
   "outputs": [],
   "source": [
    "def b58decode(src, length = None):\n",
    "    base = 58\n",
    "    \n",
    "    long_value = 0\n",
    "    for (i, c) in enumerate(src[::-1]):\n",
    "        long_value += b58chars.find(c) * (base ** i)\n",
    "\n",
    "    result = bytes()\n",
    "    while long_value >= 256:\n",
    "        div, mod = divmod(long_value, 256)\n",
    "        result = short2byte(mod) + result\n",
    "        long_value = div\n",
    "    result = short2byte(long_value) + result\n",
    "    nPad = 0\n",
    "    for c in src:\n",
    "        if c == b58chars[0]:\n",
    "            nPad += 1\n",
    "        else:\n",
    "            break\n",
    "\n",
    "    result = short2byte(0)*nPad + result\n",
    "    if length is not None and len(result) != length:\n",
    "        raise \"len(b58decode_result) != length\"\n",
    "    return result\n",
    "\n",
    "def b58encode(src):\n",
    "    base = 58\n",
    "    \n",
    "    long_value = 0\n",
    "    for (i, c) in enumerate(src[::-1]):\n",
    "        long_value += (256**i) * c\n",
    "\n",
    "    result = ''\n",
    "    while long_value >= base:\n",
    "        div, mod = divmod(long_value, base)\n",
    "        result = b58chars[mod] + result\n",
    "        long_value = div\n",
    "    result = b58chars[long_value] + result\n",
    "\n",
    "    # Bitcoin does a little leading-zero-compression:\n",
    "    # leading 0-bytes in the input become leading-1s\n",
    "    nPad = 0\n",
    "    for c in src:\n",
    "#        if c == '\\0': nPad += 1\n",
    "        if c == 0 : nPad += 1\n",
    "        else: break\n",
    "\n",
    "    return (b58chars[0]*nPad) + result"
   ]
  },
  {
   "cell_type": "code",
   "execution_count": 129,
   "id": "a70ea3ac",
   "metadata": {},
   "outputs": [],
   "source": [
    "def pubkey_to_address(string):\n",
    "    #data = binascii.unhexlify(string)\n",
    "    data = bytes.fromhex(string)\n",
    "    data_hash = hash160(data)\n",
    "    vs = short2byte(addr_prefix) + data_hash   \n",
    "    check = sha256_twice(vs)[0:4]\n",
    "    return b58encode(vs + check)"
   ]
  },
  {
   "cell_type": "code",
   "execution_count": 42,
   "id": "9744698d",
   "metadata": {},
   "outputs": [],
   "source": [
    "def wif_to_privkey(string):\n",
    "    wif_compressed = 52 == len(string)\n",
    "    pvkeyencoded = b58decode(string).hex()\n",
    "    wifversion = pvkeyencoded[:2]\n",
    "    checksum = pvkeyencoded[-8:]\n",
    "\n",
    "    #vs = binascii.unhexlify(pvkeyencoded[:-8])\n",
    "    vs = bytes.fromhex(pvkeyencoded[:-8])\n",
    "    check = sha256_twice(vs)[0:4]\n",
    "\n",
    "    if wifversion == wif_prefix.to_bytes(1, byteorder='big').hex() and checksum == check.hex():\n",
    "        if wif_compressed == True:\n",
    "            compressed = True\n",
    "            privkey = pvkeyencoded[2:-10]        \n",
    "        else:\n",
    "            compressed = False\n",
    "            privkey = pvkeyencoded[2:-8]\n",
    "\n",
    "        return {'compressed': compressed, 'privkey': privkey}\n",
    "\n",
    "    else:\n",
    "        return None"
   ]
  },
  {
   "cell_type": "code",
   "execution_count": 164,
   "id": "e64f3445",
   "metadata": {},
   "outputs": [],
   "source": [
    "tmp = hex_encoded_public_key\n",
    "data = bytes.fromhex(tmp)"
   ]
  },
  {
   "cell_type": "code",
   "execution_count": 165,
   "id": "401e1f14",
   "metadata": {},
   "outputs": [
    {
     "data": {
      "text/plain": [
       "b'\\x04\\xc4\\x90\\x85\\rd\\xf7J\\xa33\\xa9\\x0b2\\xee\\x82\\xce\\x93\\xf4,YD\\x10\\xfb`q+\\xb6\\xc25\\xd61\\x9d&I\\x17\\xde\\xe1\\xd8 \\x07\\r\\x0fq\\xb8\\xec?\\xdd\\x0c\\xb8\\xcf3\\xa5n\\x16\\x14\\x91\\xa9\\x92k\\xdd\\xf8j\\xbcg\\xe0'"
      ]
     },
     "execution_count": 165,
     "metadata": {},
     "output_type": "execute_result"
    }
   ],
   "source": [
    "data"
   ]
  },
  {
   "cell_type": "code",
   "execution_count": 166,
   "id": "b8bda03d",
   "metadata": {},
   "outputs": [],
   "source": [
    "data_hash = hash160(data)"
   ]
  },
  {
   "cell_type": "code",
   "execution_count": 167,
   "id": "49f1fe40",
   "metadata": {},
   "outputs": [
    {
     "data": {
      "text/plain": [
       "b'm~\\xca\\xa8\\xc8\\x9a\\x0e\\xc7\\xae\\xc8\\xcc=\\xfe\\xe8\\xb6\\xdc\\x0c\\xa3\\x86\\xe7'"
      ]
     },
     "execution_count": 167,
     "metadata": {},
     "output_type": "execute_result"
    }
   ],
   "source": [
    "hashlib.new('ripemd160', sha256(data).digest()).digest()"
   ]
  },
  {
   "cell_type": "code",
   "execution_count": 168,
   "id": "22e68388",
   "metadata": {},
   "outputs": [],
   "source": [
    "vs = short2byte(addr_prefix) + data_hash"
   ]
  },
  {
   "cell_type": "code",
   "execution_count": 170,
   "id": "703f5edc",
   "metadata": {},
   "outputs": [
    {
     "name": "stdout",
     "output_type": "stream",
     "text": [
      "mqVuqboxntD3yG4aYggpsb922scDsLP83n\n"
     ]
    }
   ],
   "source": [
    "check = sha256_twice(vs)[0:4]\n",
    "print(b58encode(vs + check))"
   ]
  },
  {
   "cell_type": "code",
   "execution_count": null,
   "id": "bcaa6f34",
   "metadata": {},
   "outputs": [],
   "source": []
  },
  {
   "cell_type": "code",
   "execution_count": 47,
   "id": "fe167f96",
   "metadata": {},
   "outputs": [
    {
     "data": {
      "text/plain": [
       "{'compressed': True,\n",
       " 'privkey': '48aa8776bc86d26485761d6d8e2bff49eebd487fc947f76d08776ade92ebb335'}"
      ]
     },
     "execution_count": 47,
     "metadata": {},
     "output_type": "execute_result"
    }
   ],
   "source": [
    "wif_to_privkey('cQ1xMDF6vufa8CC1tqnpro8evw8DHa173HL3Wgi6ps8WW1mgqpop')"
   ]
  },
  {
   "cell_type": "code",
   "execution_count": 141,
   "id": "c0151b95",
   "metadata": {},
   "outputs": [],
   "source": [
    "def get_public_key(string):\n",
    "    decoded_private_key = hex2int(string)\n",
    "    public_key = fast_multiply(G, decoded_private_key)\n",
    "    hex_encoded_public_key = str('04') + public_key[0].to_bytes(32, byteorder='big').hex() + public_key[1].to_bytes(32, byteorder='big').hex()\n",
    "\n",
    "    (public_key_x, public_key_y) = public_key\n",
    "    if (public_key_y % 2) == 0:\n",
    "        compressed_prefix = '02'\n",
    "    else:\n",
    "        compressed_prefix = '03'\n",
    "\n",
    "    hex_compressed_public_key = compressed_prefix + public_key_x.to_bytes(32, byteorder='big').hex()\n",
    "\n",
    "    return {\n",
    "        'pubkeyhex': hex_encoded_public_key,\n",
    "        'pubkeyhex_compressed': hex_compressed_public_key\n",
    "    }"
   ]
  },
  {
   "cell_type": "code",
   "execution_count": 144,
   "id": "ff8b689e",
   "metadata": {},
   "outputs": [
    {
     "data": {
      "text/plain": [
       "{'pubkeyhex': '04c490850d64f74aa333a90b32ee82ce93f42c594410fb60712bb6c235d6319d264917dee1d820070d0f71b8ec3fdd0cb8cf33a56e161491a9926bddf86abc67e0',\n",
       " 'pubkeyhex_compressed': '02c490850d64f74aa333a90b32ee82ce93f42c594410fb60712bb6c235d6319d26'}"
      ]
     },
     "execution_count": 144,
     "metadata": {},
     "output_type": "execute_result"
    }
   ],
   "source": [
    "get_public_key('48aa8776bc86d26485761d6d8e2bff49eebd487fc947f76d08776ade92ebb335')"
   ]
  },
  {
   "cell_type": "code",
   "execution_count": 114,
   "id": "58cbfde2",
   "metadata": {},
   "outputs": [],
   "source": [
    "privkey = hex2int('48aa8776bc86d26485761d6d8e2bff49eebd487fc947f76d08776ade92ebb335')"
   ]
  },
  {
   "cell_type": "code",
   "execution_count": 115,
   "id": "41b1412e",
   "metadata": {},
   "outputs": [],
   "source": [
    "public_key = fast_multiply(G, privkey)"
   ]
  },
  {
   "cell_type": "code",
   "execution_count": 116,
   "id": "481e3870",
   "metadata": {},
   "outputs": [],
   "source": [
    "hex_encoded_public_key = str('04') + public_key[0].to_bytes(32, byteorder='big').hex() + public_key[1].to_bytes(32, byteorder='big').hex()"
   ]
  },
  {
   "cell_type": "code",
   "execution_count": 136,
   "id": "1b29316f",
   "metadata": {},
   "outputs": [
    {
     "data": {
      "text/plain": [
       "'04c490850d64f74aa333a90b32ee82ce93f42c594410fb60712bb6c235d6319d264917dee1d820070d0f71b8ec3fdd0cb8cf33a56e161491a9926bddf86abc67e0'"
      ]
     },
     "execution_count": 136,
     "metadata": {},
     "output_type": "execute_result"
    }
   ],
   "source": [
    "hex_encoded_public_key"
   ]
  },
  {
   "cell_type": "code",
   "execution_count": 118,
   "id": "020014d8",
   "metadata": {},
   "outputs": [],
   "source": [
    "(public_key_x, public_key_y) = public_key\n",
    "if (public_key_y % 2) == 0:\n",
    "    compressed_prefix = '02'\n",
    "else:\n",
    "    compressed_prefix = '03'\n",
    "\n",
    "hex_compressed_public_key = compressed_prefix + public_key_x.to_bytes(32, byteorder='big').hex()"
   ]
  },
  {
   "cell_type": "code",
   "execution_count": 119,
   "id": "9f26951f",
   "metadata": {},
   "outputs": [
    {
     "data": {
      "text/plain": [
       "'02c490850d64f74aa333a90b32ee82ce93f42c594410fb60712bb6c235d6319d26'"
      ]
     },
     "execution_count": 119,
     "metadata": {},
     "output_type": "execute_result"
    }
   ],
   "source": [
    "hex_compressed_public_key"
   ]
  },
  {
   "cell_type": "code",
   "execution_count": 95,
   "id": "1827fb4d",
   "metadata": {},
   "outputs": [],
   "source": [
    "# def add(a:tuple, b:tuple):\n",
    "#     if a[0] == b[0] and a[1] == b[1]:\n",
    "#         u = (3 * ((a[0] ** 2) % P) + A) % P\n",
    "#         d = (2 * a[1]) % P\n",
    "#     else:\n",
    "#         u = (a[1] - b[1]) % P\n",
    "#         d = (a[0] - b[0]) % P\n",
    "#     k = (u * fast_power(d, P - 2)) % P\n",
    "#     rx = (k ** 2 - a[0] - b[0]) % P\n",
    "#     ry = (k * (a[0] - rx) - a[1]) % P\n",
    "#     return rx,  ry\n",
    "\n",
    "# def mul(a:tuple, b:int):\n",
    "#     assert len(a) == 2\n",
    "#     res_a = a\n",
    "#     b -= 1\n",
    "#     while b:\n",
    "#         if b & 1:\n",
    "#             res_a = add(a, res_a)\n",
    "#         res_a = add(res_a, res_a)\n",
    "#         b >>= 1\n",
    "#     return res_a\n",
    "\n",
    "# private to public key x, y\n",
    "def inv(a, n):\n",
    "    if a == 0:\n",
    "        return 0\n",
    "    lm, hm = 1, 0\n",
    "    low, high = a % n, n\n",
    "    while low > 1:\n",
    "        r = high//low\n",
    "        nm, new = hm-lm*r, high-low*r\n",
    "        lm, low, hm, high = nm, new, lm, low\n",
    "    return lm % n\n",
    "\n",
    "def to_jacobian(p):\n",
    "    o = (p[0], p[1], 1)\n",
    "    return o\n",
    "\n",
    "def jacobian_double(p):\n",
    "    if not p[1]:\n",
    "        return (0, 0, 0)\n",
    "    ysq = (p[1] ** 2) % P\n",
    "    S = (4 * p[0] * ysq) % P\n",
    "    M = (3 * p[0] ** 2 + A * p[2] ** 4) % P\n",
    "    nx = (M**2 - 2 * S) % P\n",
    "    ny = (M * (S - nx) - 8 * ysq ** 2) % P\n",
    "    nz = (2 * p[1] * p[2]) % P\n",
    "    return (nx, ny, nz)\n",
    "\n",
    "def jacobian_add(p, q):\n",
    "    if not p[1]:\n",
    "        return q\n",
    "    if not q[1]:\n",
    "        return p\n",
    "    U1 = (p[0] * q[2] ** 2) % P\n",
    "    U2 = (q[0] * p[2] ** 2) % P\n",
    "    S1 = (p[1] * q[2] ** 3) % P\n",
    "    S2 = (q[1] * p[2] ** 3) % P\n",
    "    if U1 == U2:\n",
    "        if S1 != S2:\n",
    "            return (0, 0, 1)\n",
    "        return jacobian_double(p)\n",
    "    H = U2 - U1\n",
    "    R = S2 - S1\n",
    "    H2 = (H * H) % P\n",
    "    H3 = (H * H2) % P\n",
    "    U1H2 = (U1 * H2) % P\n",
    "    nx = (R ** 2 - H3 - 2 * U1H2) % P\n",
    "    ny = (R * (U1H2 - nx) - S1 * H3) % P\n",
    "    nz = (H * p[2] * q[2]) % P\n",
    "    return (nx, ny, nz)\n",
    "\n",
    "def from_jacobian(p):\n",
    "    z = inv(p[2], P)\n",
    "    return ((p[0] * z**2) % P, (p[1] * z**3) % P)\n",
    "\n",
    "def jacobian_multiply(a, n):\n",
    "    if a[1] == 0 or n == 0:\n",
    "        return (0, 0, 1)\n",
    "    if n == 1:\n",
    "        return a\n",
    "    if n < 0 or n >= N:\n",
    "        return jacobian_multiply(a, n % N)\n",
    "    if (n % 2) == 0:\n",
    "        return jacobian_double(jacobian_multiply(a, n//2))\n",
    "    if (n % 2) == 1:\n",
    "        return jacobian_add(jacobian_double(jacobian_multiply(a, n//2)), a)\n",
    "\n",
    "def fast_multiply(a, n):\n",
    "    return from_jacobian(jacobian_multiply(to_jacobian(a), n))"
   ]
  },
  {
   "cell_type": "code",
   "execution_count": 121,
   "id": "5ff0a16c",
   "metadata": {},
   "outputs": [],
   "source": [
    "pubk = fast_multiply(G, privkey)"
   ]
  },
  {
   "cell_type": "code",
   "execution_count": 122,
   "id": "5c7f9636",
   "metadata": {},
   "outputs": [
    {
     "data": {
      "text/plain": [
       "(88908662593024688293693445102311076163561272656726557731309997935603353754918,\n",
       " 33061013705505967172302089567744166787946467068486794204954379617455180638176)"
      ]
     },
     "execution_count": 122,
     "metadata": {},
     "output_type": "execute_result"
    }
   ],
   "source": [
    "pubk"
   ]
  },
  {
   "cell_type": "code",
   "execution_count": 123,
   "id": "41d501db",
   "metadata": {},
   "outputs": [
    {
     "data": {
      "text/plain": [
       "'04c490850d64f74aa333a90b32ee82ce93f42c594410fb60712bb6c235d6319d264917dee1d820070d0f71b8ec3fdd0cb8cf33a56e161491a9926bddf86abc67e0'"
      ]
     },
     "execution_count": 123,
     "metadata": {},
     "output_type": "execute_result"
    }
   ],
   "source": [
    "str('04') + pubk[0].to_bytes(32, byteorder='big').hex() + pubk[1].to_bytes(32, byteorder='big').hex()"
   ]
  },
  {
   "cell_type": "code",
   "execution_count": 124,
   "id": "02ad8691",
   "metadata": {},
   "outputs": [],
   "source": [
    "(public_key_x, public_key_y) = pubk\n",
    "if (public_key_y % 2) == 0:\n",
    "    compressed_prefix = '02'\n",
    "else:\n",
    "    compressed_prefix = '03'\n",
    "\n",
    "hex_compressed_public_key = compressed_prefix + public_key_x.to_bytes(32, byteorder='big').hex()"
   ]
  },
  {
   "cell_type": "code",
   "execution_count": 173,
   "id": "e37c73bc",
   "metadata": {},
   "outputs": [
    {
     "data": {
      "text/plain": [
       "'mqVuqboxntD3yG4aYggpsb922scDsLP83n'"
      ]
     },
     "execution_count": 173,
     "metadata": {},
     "output_type": "execute_result"
    }
   ],
   "source": [
    "pubkey_to_address(hex_encoded_public_key)"
   ]
  },
  {
   "cell_type": "code",
   "execution_count": 172,
   "id": "1ffaff0f",
   "metadata": {},
   "outputs": [
    {
     "data": {
      "text/plain": [
       "'mhxhwga4chsWgmTsCYYkgtm4n87BMVvyyG'"
      ]
     },
     "execution_count": 172,
     "metadata": {},
     "output_type": "execute_result"
    }
   ],
   "source": [
    "pubkey_to_address(get_public_key('48aa8776bc86d26485761d6d8e2bff49eebd487fc947f76d08776ade92ebb335').get('pubkeyhex_compressed'))"
   ]
  },
  {
   "cell_type": "code",
   "execution_count": null,
   "id": "4b9e0c26",
   "metadata": {},
   "outputs": [],
   "source": []
  }
 ],
 "metadata": {
  "kernelspec": {
   "display_name": "Python 3 (ipykernel)",
   "language": "python",
   "name": "python3"
  },
  "language_info": {
   "codemirror_mode": {
    "name": "ipython",
    "version": 3
   },
   "file_extension": ".py",
   "mimetype": "text/x-python",
   "name": "python",
   "nbconvert_exporter": "python",
   "pygments_lexer": "ipython3",
   "version": "3.8.13"
  }
 },
 "nbformat": 4,
 "nbformat_minor": 5
}
